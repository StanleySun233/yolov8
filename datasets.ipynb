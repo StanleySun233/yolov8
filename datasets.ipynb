{
 "cells": [
  {
   "metadata": {},
   "cell_type": "code",
   "outputs": [],
   "execution_count": null,
   "source": "!pip install roboflow",
   "id": "81bd55ddfc48ce7d"
  },
  {
   "metadata": {},
   "cell_type": "code",
   "outputs": [],
   "execution_count": null,
   "source": "from roboflow import Roboflow",
   "id": "cf3d7f9d8287461a"
  },
  {
   "metadata": {
    "collapsed": true
   },
   "cell_type": "code",
   "outputs": [],
   "execution_count": null,
   "source": [
    "# container damage detection\n",
    "rf = Roboflow(api_key=\"<input your key>\")\n",
    "project = rf.workspace(\"new-workspace-p1qnu\").project(\"container-damage-detection\")\n",
    "version = project.version(1)\n",
    "dataset = version.download(\"yolov8\")"
   ],
   "id": "initial_id"
  },
  {
   "metadata": {},
   "cell_type": "code",
   "outputs": [],
   "execution_count": null,
   "source": [
    "# neu-det\n",
    "rf = Roboflow(api_key=\"<input your key>\")\n",
    "project = rf.workspace(\"stanleysun233\").project(\"neu-det-4b9ed\")\n",
    "version = project.version(2)\n",
    "dataset = version.download(\"yolov8\") "
   ],
   "id": "9fca489c20ee7d58"
  }
 ],
 "metadata": {
  "kernelspec": {
   "display_name": "Python 3",
   "language": "python",
   "name": "python3"
  },
  "language_info": {
   "codemirror_mode": {
    "name": "ipython",
    "version": 2
   },
   "file_extension": ".py",
   "mimetype": "text/x-python",
   "name": "python",
   "nbconvert_exporter": "python",
   "pygments_lexer": "ipython2",
   "version": "2.7.6"
  }
 },
 "nbformat": 4,
 "nbformat_minor": 5
}
